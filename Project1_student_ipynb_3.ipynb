{
  "nbformat": 4,
  "nbformat_minor": 0,
  "metadata": {
    "colab": {
      "name": "Project1_student.ipynb 3",
      "provenance": [],
      "collapsed_sections": [],
      "include_colab_link": true
    },
    "kernelspec": {
      "name": "python3",
      "display_name": "Python 3"
    }
  },
  "cells": [
    {
      "cell_type": "markdown",
      "metadata": {
        "id": "view-in-github",
        "colab_type": "text"
      },
      "source": [
        "<a href=\"https://colab.research.google.com/github/cerdwin/AIC-IBL/blob/main/Project1_student_ipynb_3.ipynb\" target=\"_parent\"><img src=\"https://colab.research.google.com/assets/colab-badge.svg\" alt=\"Open In Colab\"/></a>"
      ]
    },
    {
      "cell_type": "markdown",
      "metadata": {
        "id": "VhuytGxEcJzz"
      },
      "source": [
        "## Initialization\n",
        "Install and import required libraries"
      ]
    },
    {
      "cell_type": "code",
      "metadata": {
        "colab": {
          "base_uri": "https://localhost:8080/"
        },
        "id": "DGbNoWBDYq78",
        "outputId": "725ca07a-b214-4426-c9f8-ebadfa5998cf"
      },
      "source": [
        "!pip install sympy\n",
        "from sympy import Symbol, symbols\n",
        "from sympy.logic import And, Or, Not, Implies, Equivalent\n",
        "from sympy.logic.inference import satisfiable\n",
        "import random"
      ],
      "execution_count": 3,
      "outputs": [
        {
          "output_type": "stream",
          "text": [
            "Requirement already satisfied: sympy in /usr/local/lib/python3.7/dist-packages (1.7.1)\n",
            "Requirement already satisfied: mpmath>=0.19 in /usr/local/lib/python3.7/dist-packages (from sympy) (1.2.1)\n"
          ],
          "name": "stdout"
        }
      ]
    },
    {
      "cell_type": "markdown",
      "metadata": {
        "id": "6MpST7JiFPS-"
      },
      "source": [
        "The following class defines the environment (a.k.a. \"oracle\") with which the agent interacts."
      ]
    },
    {
      "cell_type": "code",
      "metadata": {
        "id": "SHR8d3OreTkX"
      },
      "source": [
        "class SimpleEnvironment:\n",
        "  def __init__(self, target_concept, variables):\n",
        "    self.variables = variables\n",
        "    self._target_concept = target_concept\n",
        "    self._last_interpretation = {variable: False for variable in variables} # we start with all zeros\n",
        "    self._last_observation = And() # empty conjunction a.k.a. True\n",
        "    assert target_concept.free_symbols <= variables\n",
        "\n",
        "  @staticmethod\n",
        "  def interpretation_to_conjunction(interpretation):\n",
        "    \"\"\"\n",
        "    Converts a propositional dict-represented interpretation (i.e. the truth-value\n",
        "    assignment to propositional variables) to the conjunction for which it is the\n",
        "    unique model (i.e. a satisfying assignment).\n",
        "    \"\"\"\n",
        "    literals = (\n",
        "      variable if positive else Not(variable)\n",
        "      for variable, positive\n",
        "      in interpretation.items()\n",
        "      )\n",
        "    return And(*literals)\n",
        "\n",
        "  def _random_variable(self):\n",
        "    return random.choice(tuple(self.variables))\n",
        "\n",
        "  def _next_observation(self):\n",
        "    \"\"\"\n",
        "    Generates another interpretation by randomly flipping one bit in the \n",
        "    previous one. Note that is certainly NOT i.i.d. sampling.\n",
        "    \"\"\"\n",
        "    variable = self._random_variable()          # Which one to flip?\n",
        "    self._last_interpretation[variable] ^= True # Only used internally\n",
        "\n",
        "    observation = self._last_interpretation.copy()\n",
        "    if random.random() < 0.5:  # Incompleteneness of information\n",
        "      del observation[self._random_variable()]   \n",
        "    self._last_observation = self.interpretation_to_conjunction(observation)\n",
        "    return self._last_observation\n",
        "\n",
        "  def action(self, a):\n",
        "    \"\"\"\n",
        "    Accepts a prediction of the class of the previous sample.\n",
        "    Returns the corrsponding reward (-1 or 0) and another sample.\n",
        "    \"\"\"\n",
        "    # Check if the presented observation is a model of the concept\n",
        "    # this code works for arbitrarily complicated concepts.\n",
        "    correct_answer = not satisfiable(\n",
        "        Not(self._target_concept) & self._last_observation\n",
        "    )\n",
        "\n",
        "    reward = 0 if a == correct_answer else -1\n",
        "    observation = self._next_observation()\n",
        "\n",
        "    return reward, observation"
      ],
      "execution_count": 4,
      "outputs": []
    },
    {
      "cell_type": "markdown",
      "metadata": {
        "id": "-a2pYobUEZLC"
      },
      "source": [
        ""
      ]
    },
    {
      "cell_type": "code",
      "metadata": {
        "id": "_Vh4dOchEZrO"
      },
      "source": [
        ""
      ],
      "execution_count": null,
      "outputs": []
    },
    {
      "cell_type": "markdown",
      "metadata": {
        "id": "6VuKpSftnG8h"
      },
      "source": [
        "The following class defines the generalizing agent for learning propositional conjunctions. It assumes the agent-environment interaction framework where\n",
        "the environment is provided by the class above."
      ]
    },
    {
      "cell_type": "code",
      "metadata": {
        "id": "QWj4J61ixIF6"
      },
      "source": [
        "from sympy.core.operations import AssocOp\n",
        "from sympy.logic.boolalg import BooleanAtom\n",
        "def get_literals(formula):\n",
        "  \"\"\"Safely extracts all literals from a conjunction or disjunction\"\"\"\n",
        "  if isinstance(formula, AssocOp): # Clauses, terms\n",
        "    return set(formula.args)\n",
        "  elif isinstance(formula, Not) or isinstance(formula, Symbol): # literals\n",
        "    return {formula}\n",
        "  elif isinstance(formula, bool) or isinstance(formula, BooleanAtom): # Includes True, False\n",
        "    return set()\n",
        "  else:\n",
        "    raise TypeError(\"invalid input to get_literals\")\n",
        "\n",
        "\n",
        "class GeneralizingAgent:\n",
        "  def __init__(self, environment):\n",
        "    self.environment = environment\n",
        "    self.mistakes = 0\n",
        "    self.initLearning()\n",
        "\n",
        "  def initLearning(self):\n",
        "    # Initialize to the \"most specific\" hypothesis containing all literals.\n",
        "    # Using postivie literals only restricts the concept space to monotone \n",
        "    # conjunctions only.\n",
        "    # Simply including negative literals here would generalize it to non-monotone conjunctions.\n",
        "    self.hypothesis =  And(*environment.variables, *map(Not, environment.variables))\n",
        "\n",
        "    self.last_observation = self.hypothesis # Just a dummy value for first iteration\n",
        "    self.observation = None\n",
        "\n",
        "  @staticmethod\n",
        "  def lgg(c1, c2):\n",
        "    \"\"\"\n",
        "    Computes the least general generalization of two propositional conjunctions.\n",
        "    \"\"\"\n",
        "    intersection = get_literals(c1) & get_literals(c2)\n",
        "    return And(*intersection)\n",
        "\n",
        "  def perform_action(self, a):\n",
        "    \"\"\"\n",
        "    Sends one action to environment. Adjusts hypothesis on negative reward.\n",
        "    \"\"\"\n",
        "    reward, observation = self.environment.action(a)\n",
        "    if reward == -1: # Misclassified\n",
        "      self.hypothesis = self.lgg(self.last_observation, self.hypothesis)\n",
        "      self.mistakes += 1\n",
        "    return observation\n",
        "\n",
        "  def classify(self, observation):\n",
        "    \"\"\"\n",
        "    Make a prediction given the observation and current hypothesis by\n",
        "    determining the subsumption relation.\n",
        "    \"\"\"\n",
        "    return get_literals(self.hypothesis) <= get_literals(observation)\n",
        "    # Note: This is the same as checking whether the observation models the hypothesis\n",
        "    # The following would be logically equivalent, but computationally an overkill:\n",
        "    # return not satisfiable(Not(self.hypothesis) & observation)\n",
        "\n",
        "  def run_experiment(self, k):\n",
        "    \"\"\" Iterate the agent-environment interaction k times \"\"\"\n",
        "    prediction = False # initialize the first prediction to false\n",
        "    for _ in range(k): # for the number of iterations\n",
        "      observation = self.perform_action(prediction) # we get X, i.e. the observation by performing an action based on previous hypothesis which gave us a prediction (in first iteration initialised to False)\n",
        "      prediction = self.classify(observation)\n",
        "      self.last_observation = observation\n",
        "\n",
        "  def get_hypothesis(self):\n",
        "    \"\"\" Just a simple getter here, more interesting implementation later on. \"\"\"\n",
        "    return self.hypothesis"
      ],
      "execution_count": 162,
      "outputs": []
    },
    {
      "cell_type": "markdown",
      "metadata": {
        "id": "sHpkaWX9EzfD"
      },
      "source": [
        "Simple example where the agent learns a monotone conjunction. The concept hiden in the environment is $p_1 \\land p_3$ and the observations are NOT i.i.d. In this case, 20 observations is usually more than enough for the agent to learn the concept exactly."
      ]
    },
    {
      "cell_type": "code",
      "metadata": {
        "colab": {
          "base_uri": "https://localhost:8080/",
          "height": 38
        },
        "id": "xwObodHAE8lI",
        "outputId": "054d5d41-521b-417b-edf9-4ddf7c2263d8"
      },
      "source": [
        "p_1, p_2, p_3 = symbols([\"p_1\", \"p_2\", \"p_3\"])\n",
        "variables = {p_1, p_2, p_3}\n",
        "target_concept = p_1 & p_3\n",
        "environment = SimpleEnvironment(target_concept, variables)\n",
        "agent = GeneralizingAgent(environment)\n",
        "agent.run_experiment(100)\n",
        "\n",
        "agent.get_hypothesis()"
      ],
      "execution_count": 163,
      "outputs": [
        {
          "output_type": "execute_result",
          "data": {
            "text/latex": "$\\displaystyle p_{1} \\wedge p_{3}$",
            "text/plain": [
              "p_1 & p_3"
            ]
          },
          "metadata": {
            "tags": []
          },
          "execution_count": 163
        }
      ]
    },
    {
      "cell_type": "markdown",
      "metadata": {
        "id": "0EQSF974dozp"
      },
      "source": [
        "The number of mistakes the agent made:"
      ]
    },
    {
      "cell_type": "code",
      "metadata": {
        "colab": {
          "base_uri": "https://localhost:8080/"
        },
        "id": "tx1FOBkqdrOX",
        "outputId": "c6c272f3-bf83-4456-9f36-84b305188835"
      },
      "source": [
        "agent.mistakes"
      ],
      "execution_count": 164,
      "outputs": [
        {
          "output_type": "execute_result",
          "data": {
            "text/plain": [
              "2"
            ]
          },
          "metadata": {
            "tags": []
          },
          "execution_count": 164
        }
      ]
    },
    {
      "cell_type": "markdown",
      "metadata": {
        "id": "IPzgTmcvek1M"
      },
      "source": [
        "Looks good! But what if the concept is not equivalent to a monotone conjunction? In the following example the correct concept is:"
      ]
    },
    {
      "cell_type": "code",
      "metadata": {
        "colab": {
          "base_uri": "https://localhost:8080/",
          "height": 38
        },
        "id": "NcNvpBfafmx8",
        "outputId": "d2c2a774-da35-4157-d6b3-f9444272afc8"
      },
      "source": [
        "target_concept = (p_2 << p_1) & (p_2 << p_3)\n",
        "target_concept"
      ],
      "execution_count": 199,
      "outputs": [
        {
          "output_type": "execute_result",
          "data": {
            "text/latex": "$\\displaystyle \\left(p_{1} \\Rightarrow p_{2}\\right) \\wedge \\left(p_{3} \\Rightarrow p_{2}\\right)$",
            "text/plain": [
              "(Implies(p_1, p_2)) & (Implies(p_3, p_2))"
            ]
          },
          "metadata": {
            "tags": []
          },
          "execution_count": 199
        }
      ]
    },
    {
      "cell_type": "code",
      "metadata": {
        "colab": {
          "base_uri": "https://localhost:8080/"
        },
        "id": "1m7HjM_edzK4",
        "outputId": "596ff3aa-d452-4507-b1cf-4bf14be42c4c"
      },
      "source": [
        "environment = SimpleEnvironment(target_concept, variables)\n",
        "agent = GeneralizingAgent(environment)\n",
        "agent.run_experiment(100)\n",
        "\n",
        "agent.get_hypothesis()\n",
        "print(\"hypothesis type is:\", type(agent.get_hypothesis()))\n",
        "print(\"hypothesis itself is:\", agent.get_hypothesis())"
      ],
      "execution_count": 200,
      "outputs": [
        {
          "output_type": "stream",
          "text": [
            "hypothesis type is: <class 'sympy.logic.boolalg.BooleanTrue'>\n",
            "hypothesis itself is: True\n"
          ],
          "name": "stdout"
        }
      ]
    },
    {
      "cell_type": "code",
      "metadata": {
        "colab": {
          "base_uri": "https://localhost:8080/"
        },
        "id": "koi_plWxFiba",
        "outputId": "dee18eb2-d629-4b68-d88e-021413fa0878"
      },
      "source": [
        "agent.mistakes"
      ],
      "execution_count": 201,
      "outputs": [
        {
          "output_type": "execute_result",
          "data": {
            "text/plain": [
              "51"
            ]
          },
          "metadata": {
            "tags": []
          },
          "execution_count": 201
        }
      ]
    },
    {
      "cell_type": "markdown",
      "metadata": {
        "id": "5v-Lu1zUmCfO"
      },
      "source": [
        "This agent did not sucessfully learn the concept and most likely also made way too many classification mistakes. The reason is that it is not searching a concept space expressive enough.\n",
        "\n",
        "# YOUR TASK:\n",
        "\n",
        "Adapt the agent defined above so that it is capable of learning any s-CNF concept. It will be tested on a set of concepts we do not provide to you and possibly with a different environment (with the same API). The rules are:\n",
        "\n",
        "\n",
        "*   Do not attempt to access the concept stored in the oracle directly. Rely on the observations provided by the API only. \n",
        "*   The agent should not make more classification mistakes than necessary (i.e. it should learn the concept as good as possible given the environment properties.)\n",
        "*   Only store the last observation in the memory, same as in the implementation above.\n",
        "*   Your implementation should not excess the necessary algorithmic complexity by too much.\n",
        "*   You MAY implement any auxiliary methods you want. You MAY import anything from the Python standard library or SymPy, but not from other libraries.\n",
        "*   However, do not modify/override the `__init__` and `run_experiment` methods below. \n",
        "*   Your implementation of `perform_action` is responsible for correctly keeping track of the `mistakes` attribute as above.\n",
        "*   Do not spam the standard output with debug messages.\n",
        "*   This is not a teamwork! Work it out on your own! (Teamwork occured in the past and we found out.)"
      ]
    },
    {
      "cell_type": "code",
      "metadata": {
        "id": "72KkRn4hlkhK"
      },
      "source": [
        "from itertools import combinations, chain # Some functions that may prove handy"
      ],
      "execution_count": 168,
      "outputs": []
    },
    {
      "cell_type": "markdown",
      "metadata": {
        "id": "1lLc0ilqrrvv"
      },
      "source": [
        "## Work on your solution here\n",
        "Fill in the missing pieces of the code below. (Copying useful pieces of code from the `GeneralizingAgent` is allowed.)"
      ]
    },
    {
      "cell_type": "code",
      "metadata": {
        "id": "Hw3vp5sukoEJ"
      },
      "source": [
        "class GeneralizingAgent_sCNF(GeneralizingAgent):\n",
        "  def __init__(self, environment, s=2):\n",
        "    self.environment = environment\n",
        "    self.mistakes = 0\n",
        "    self.s = s\n",
        "    self.initLearning()\n",
        "\n",
        "  def initLearning(self):\n",
        "    \"\"\" Initialize the hypothesis and other necessary values. \"\"\"\n",
        "    # TODO - implement this method\n",
        "    self.hypothesis =  And(*environment.variables, *map(Not, environment.variables))\n",
        "    self.negatives = [*map(Not, environment.variables)] # I dont need this anymore\n",
        "    \n",
        "    self.all_vars = [ i for i in get_literals(self.hypothesis)] # I dont need this anymore\n",
        "    self.terms = [] # I dont need this anymore\n",
        "\n",
        "    for i in range(2, self.s+1): # accounting for varying number of chosen literals\n",
        "      for combo in combinations(self.all_vars, i):\n",
        "        tmp=Or(*combo)\n",
        "        self.hypothesis = And(self.hypothesis, tmp)\n",
        "\n",
        "    self.last_observation = self.hypothesis # Just a dummy value for first iteration\n",
        "    self.observation = None\n",
        "    #print(\"My start hypothesis is:\", self.hypothesis)\n",
        "  @staticmethod\n",
        "  def rectify(observation, hypothesis): # my version of lgg\n",
        "    res = [] # I prepare an array for all terms I will leave as they are\n",
        "    for term in get_literals(hypothesis):\n",
        "      to_break = False\n",
        "      for obs in get_literals(observation):\n",
        "        if obs in get_literals(term):\n",
        "          res.append(term)\n",
        "          to_break = True\n",
        "          break\n",
        "        if to_break:\n",
        "          break\n",
        "    \n",
        "    return And(*res) # returning all those which passed the verification\n",
        "    \n",
        "  def perform_action(self, a):\n",
        "    \"\"\"\n",
        "    Sends one action to environment. Adjusts hypothesis on negative reward.\n",
        "    \"\"\"\n",
        "    \n",
        "    reward, observation = self.environment.action(a)\n",
        "    if reward == -1:\n",
        "      self.hypothesis = self.rectify(self.last_observation, self.hypothesis)   #vyrezes vse, co zpusobuje to ze je to spatne # kazdy ten term musi mit variable z obbservation, neni to jinak true\n",
        "      self.mistakes +=1\n",
        "    return observation\n",
        "\n",
        "  def classify(self, observation): # pokud neupravujes, bude furt vracet false\n",
        "    \"\"\"\n",
        "    Make a prediction given the observation and current hypothesis by\n",
        "    determining the subsumption relation.\n",
        "    \"\"\"\n",
        "    tmp = self.hypothesis # zkopiruju si hypotezu, ktera je zapsana jako CNF do promenne\n",
        "\n",
        "    for lit in get_literals(tmp):\n",
        "      valid = False\n",
        "      for l in get_literals(lit):\n",
        "        if l in get_literals(observation):\n",
        "          valid = True\n",
        "          break\n",
        "      if not valid:\n",
        "        return False\n",
        "    return True\n",
        "\n",
        "\n",
        "  def get_hypothesis(self):\n",
        "    \"\"\" Return the hypothesis in the s-CNF representation using the original variables \"\"\"\n",
        "    #print(\"self hypothesis is:\", self.hypothesis)\n",
        "    return self.hypothesis\n",
        "    #tmp = self.hypothesis\n",
        "    #tmp = tmp.subs('&', '∧')\n",
        "    \n",
        "    #tmp = tmp.subs(And, ∧)\n",
        "    #print(\"hyp now:\", tmp)\n",
        "\n",
        "    #return False\n",
        "    #tmp = self.hypothesis\n",
        "    #lits = get_literals(self.hypothesis)\n",
        "    #print(\"lits is:\", lits)\n",
        "    #for l in get_literals(lits):\n",
        "    #  if l in self.negatives:\n",
        "    #    for orig in self.variables:\n",
        "    #      if l == Not(orig):\n",
        "    #return False\n",
        "    #for i in get_literals(lits):\n",
        "    #  if i in self.negatives:\n",
        "     #   for orig in self.variables:\n",
        "     #     if i == Not(orig):\n",
        "    #        tmp.subs(i, 1-orig)\n",
        "    #return tmp\n",
        "        ###\n",
        "    # TODO - implement this method\n",
        "    #\n",
        "    # Hint: The sympy formulas have a `subs` method which may be helpful here,\n",
        "    # depending on you data representation.\n",
        "\n",
        "  def run_experiment(self, k):\n",
        "    \"\"\" Iterate the agent-environment interaction k times \"\"\"\n",
        "    prediction = False\n",
        "    for _ in range(k):\n",
        "      observation = self.perform_action(prediction)\n",
        "      prediction = self.classify(observation)\n",
        "      self.last_observation = observation\n"
      ],
      "execution_count": 256,
      "outputs": []
    },
    {
      "cell_type": "markdown",
      "metadata": {
        "id": "7iJnl3j8MdHM"
      },
      "source": [
        "The following code is provided here to help you test your solution:"
      ]
    },
    {
      "cell_type": "code",
      "metadata": {
        "id": "6YzAN7SbmPJt",
        "colab": {
          "base_uri": "https://localhost:8080/",
          "height": 38
        },
        "outputId": "96ac2f0a-e246-4e82-82ed-9a5bb1c9ccbd"
      },
      "source": [
        "environment = SimpleEnvironment(target_concept, variables)\n",
        "agent = GeneralizingAgent_sCNF(environment, s=2)\n",
        "agent.run_experiment(100)\n",
        "\n",
        "agent.get_hypothesis()"
      ],
      "execution_count": 262,
      "outputs": [
        {
          "output_type": "execute_result",
          "data": {
            "text/latex": "$\\displaystyle \\left(p_{2} \\vee \\neg p_{1}\\right) \\wedge \\left(p_{2} \\vee \\neg p_{3}\\right)$",
            "text/plain": [
              "(p_2 | ~p_1) & (p_2 | ~p_3)"
            ]
          },
          "metadata": {
            "tags": []
          },
          "execution_count": 262
        }
      ]
    },
    {
      "cell_type": "code",
      "metadata": {
        "colab": {
          "base_uri": "https://localhost:8080/"
        },
        "id": "MW7YxWH_9oFF",
        "outputId": "4ed6d7ac-306c-4cc2-99ed-bb41d6659726"
      },
      "source": [
        "agent.mistakes"
      ],
      "execution_count": 263,
      "outputs": [
        {
          "output_type": "execute_result",
          "data": {
            "text/plain": [
              "4"
            ]
          },
          "metadata": {
            "tags": []
          },
          "execution_count": 263
        }
      ]
    },
    {
      "cell_type": "markdown",
      "metadata": {
        "id": "1Sto-IJ3-ZhV"
      },
      "source": [
        "Check if the learned concept is tautologically equivalent to the target concept. It doesn't always have to be, if the environment simply does not provide us the necessary information. "
      ]
    },
    {
      "cell_type": "code",
      "metadata": {
        "colab": {
          "base_uri": "https://localhost:8080/"
        },
        "id": "nvwsTGc8NIQj",
        "outputId": "a41164fc-cf43-4da2-b21d-bf6d2d3525fe"
      },
      "source": [
        "from itertools import product\n",
        "\n",
        "def test_tautoligical_equivalence(c1, c2):\n",
        "  \"\"\" This implementation of equivalence testing has 2^n complexity so it's intractable to use for concepts with lots of variables \"\"\"\n",
        "  vars = list(c1.free_symbols | c2.free_symbols)\n",
        "  interpretations = (dict(zip(vars, x)) for x in product((False, True), repeat=len(vars)))\n",
        "  for interpretation in interpretations:\n",
        "    if c1.subs(interpretation) != c2.subs(interpretation):\n",
        "      return False\n",
        "  return True\n",
        "\n",
        "\n",
        "n_vars = len(environment.variables)\n",
        "equivalence_of_formulas = Equivalent(agent.get_hypothesis(), target_concept)\n",
        "equivalent_interpretations = list(satisfiable(equivalence_of_formulas, all_models=True))\n",
        "\n",
        "len(equivalent_interpretations) == 2**n_vars # This proves that the equivalence of the formulas is a tautology\n",
        "\n",
        "test_tautoligical_equivalence(target_concept, agent.get_hypothesis())"
      ],
      "execution_count": 264,
      "outputs": [
        {
          "output_type": "execute_result",
          "data": {
            "text/plain": [
              "True"
            ]
          },
          "metadata": {
            "tags": []
          },
          "execution_count": 264
        }
      ]
    }
  ]
}